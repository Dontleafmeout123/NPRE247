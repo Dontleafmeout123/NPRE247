{
 "cells": [
  {
   "cell_type": "code",
   "execution_count": null,
   "id": "d6ea8724",
   "metadata": {},
   "outputs": [],
   "source": [
    "import numpy as np\n",
    "import math"
   ]
  },
  {
   "cell_type": "code",
   "execution_count": null,
   "id": "dc46b868",
   "metadata": {},
   "outputs": [],
   "source": [
    "def readInputFile(filename):\n",
    "    #get the data from the input file as a list\n",
    "    data = []\n",
    "    with open(filename, \"r\") as f:\n",
    "        lines = f.readlines()# easier to type out lines\n",
    "        #print(lines)\n",
    "        for i in range(2, len(lines)):\n",
    "            line = lines[i]\n",
    "            infoNeeded = line[:line.find(\" \")]\n",
    "            if infoNeeded.lower() != \"stable\":\n",
    "                data.append(float(infoNeeded))\n",
    "            else:\n",
    "                data.append(0)\n",
    "    \n",
    "    #data = np.array(data)\n",
    "    \n",
    "    return data"
   ]
  },
  {
   "cell_type": "code",
   "execution_count": null,
   "id": "7b58ee0f",
   "metadata": {},
   "outputs": [],
   "source": [
    "def getHalfLives(data):\n",
    "    \n",
    "    halfLives = data[0:3]\n",
    "    for i in range(0, len(halfLives)):\n",
    "        if halfLives[i] != 0:\n",
    "            halfLives[i] = 0.693 / halfLives[i]\n",
    "        else:\n",
    "            halfLives[i] = 0\n",
    "    \n",
    "    return halfLives"
   ]
  },
  {
   "cell_type": "code",
   "execution_count": null,
   "id": "6054ab1e",
   "metadata": {},
   "outputs": [],
   "source": [
    "def getInitialConditions(data):\n",
    "    \n",
    "    initialConditions = data[3:6]\n",
    "    timeTotal = data[-2]\n",
    "    deltaT = data[-1]\n",
    "    \n",
    "    return initialConditions, timeTotal, deltaT"
   ]
  },
  {
   "cell_type": "code",
   "execution_count": null,
   "id": "21c80f7e",
   "metadata": {},
   "outputs": [],
   "source": [
    "def numericallyA(initial, halflife, tf, dT):\n",
    "    \n",
    "    na = np.zeros(int(tf/dT))\n",
    "    \n",
    "    na[0] = initial\n",
    "    \n",
    "    for i in range(1, len(na)):\n",
    "        na[i] = na[i-1] + (dT*na[i-1]*-1*halflife)\n",
    "    \n",
    "    return na"
   ]
  },
  {
   "cell_type": "code",
   "execution_count": null,
   "id": "ffed6e8f",
   "metadata": {},
   "outputs": [],
   "source": [
    "def numericallyB(initial, halflifeA, halflifeB, tf, dT, na):\n",
    "    \n",
    "    nb = np.zeros(int(tf/dT))\n",
    "    \n",
    "    nb[0] = initial\n",
    "    \n",
    "    for i in range(1, len(nb)):\n",
    "        nb[i] = nb[i-1] + (dT*na[i-1]*1*halflifeA) - (dT*nb[i-1]*halflifeB)\n",
    "    \n",
    "    return nb"
   ]
  },
  {
   "cell_type": "code",
   "execution_count": null,
   "id": "90be498a",
   "metadata": {},
   "outputs": [],
   "source": [
    "def numericallyC(initial, halflifeB, tf, dT, nb):\n",
    "    \n",
    "    nc = np.zeros(int(tf/dT))\n",
    "    \n",
    "    nc[0] = initial\n",
    "    \n",
    "    for i in range(1, len(nc)):\n",
    "        nc[i] = nc[i-1] + (dT*nb[i-1]*1*halflifeB)\n",
    "    \n",
    "    return nc"
   ]
  },
  {
   "cell_type": "code",
   "execution_count": null,
   "id": "658c565f",
   "metadata": {},
   "outputs": [],
   "source": [
    "def completeNumericalMethod(filename):\n",
    "    rawInput = readInputFile(filename)\n",
    "    \n",
    "    #print(rawInput)\n",
    "    \n",
    "    halfs = getHalfLives(rawInput)\n",
    "    \n",
    "    inits, tf, dT = getInitialConditions(rawInput)\n",
    "    \n",
    "    numerical_Na = numericallyA(inits[0], halfs[0], tf, dT)\n",
    "    \n",
    "    numerical_Nb = numericallyB(inits[1], halfs[0], halfs[1], tf, dT, numerical_Na)\n",
    "    \n",
    "    numerical_Nc = numericallyC(inits[2], halfs[1], tf, dT, numerical_Nb)\n",
    "    \n",
    "    total = numerical_Na + numerical_Nb + numerical_Nc\n",
    "    \n",
    "    return(numerical_Na, numerical_Nb, numerical_Nc, total)"
   ]
  },
  {
   "cell_type": "code",
   "execution_count": null,
   "id": "2b956277",
   "metadata": {},
   "outputs": [],
   "source": [
    "completeNumericalMethod(\"Sample input file.txt\")"
   ]
  },
  {
   "cell_type": "code",
   "execution_count": null,
   "id": "906f0990",
   "metadata": {},
   "outputs": [],
   "source": []
  }
 ],
 "metadata": {
  "kernelspec": {
   "display_name": "Python 3 (ipykernel)",
   "language": "python",
   "name": "python3"
  },
  "language_info": {
   "codemirror_mode": {
    "name": "ipython",
    "version": 3
   },
   "file_extension": ".py",
   "mimetype": "text/x-python",
   "name": "python",
   "nbconvert_exporter": "python",
   "pygments_lexer": "ipython3",
   "version": "3.11.5"
  }
 },
 "nbformat": 4,
 "nbformat_minor": 5
}
