{
 "cells": [
  {
   "cell_type": "code",
   "execution_count": 38,
   "id": "bc8c96f0",
   "metadata": {},
   "outputs": [
    {
     "name": "stdout",
     "output_type": "stream",
     "text": [
      "Using matplotlib backend: <object object at 0x0000028F589EC2C0>\n"
     ]
    }
   ],
   "source": [
    "%matplotlib\n",
    "import matplotlib.pyplot as plt\n",
    "import json\n",
    "import numpy as np\n",
    "import math"
   ]
  },
  {
   "cell_type": "code",
   "execution_count": 39,
   "id": "a0dbf4b1",
   "metadata": {},
   "outputs": [],
   "source": [
    "def readOutputFile(outputFile):\n",
    "    with open(outputFile, 'r') as j:\n",
    "        data = json.loads(j.read())\n",
    "    return data"
   ]
  },
  {
   "cell_type": "code",
   "execution_count": 111,
   "id": "dc9ef0f1",
   "metadata": {},
   "outputs": [],
   "source": [
    "def getLambdas(data):\n",
    "    \n",
    "    lambdas = data\n",
    "    \n",
    "    \n",
    "    \n",
    "    for i in range(0, len(lambdas)):\n",
    "        if lambdas[i] != 0:\n",
    "            lambdas[i] = 0.693 / lambdas[i]\n",
    "        else:\n",
    "            lambdas[i] = 0\n",
    "    print(lambdas)\n",
    "    return lambdas"
   ]
  },
  {
   "cell_type": "code",
   "execution_count": 120,
   "id": "45ec202a",
   "metadata": {},
   "outputs": [],
   "source": [
    "def createAllGraphs(outputFile):\n",
    "    \n",
    "    allData = readOutputFile(outputFile)\n",
    "    dataForThree = allData[0]\n",
    "    dataForIntervals = allData[1]\n",
    "    initialConditions = allData[-1]#in form [[list of Half lives], [list Of initial amounts, total time, delta t]]\n",
    "    inits = initialConditions[1][0]\n",
    "    deltaT = initialConditions[1][2]\n",
    "    timeF = initialConditions[1][1]\n",
    "    \n",
    "    \n",
    "    fig, ax = plt.subplots(layout = 'constrained')\n",
    "    \n",
    "    \n",
    "    for lineName in list(dataForThree.keys()):\n",
    "        y = dataForThree[lineName]\n",
    "        num = int(timeF/deltaT)\n",
    "        #print(num)\n",
    "        x = np.linspace(0, timeF, num)        \n",
    "        ax.plot(x, y, label = lineName)\n",
    "    \n",
    "    \n",
    "    plt.show()\n",
    "    \n",
    "    ax.set_yscale(\"linear\")\n",
    "    ax.set_xscale(\"linear\")\n",
    "    plt.grid(which = 'both')\n",
    "    \n",
    "    h1, l1 = ax.get_legend_handles_labels()\n",
    "    ax.legend(h1, l1, loc='best', fontsize=\"8\") #legend is smaller and customizable as can be seen in the plot functions above\n",
    "    \n",
    "    ax.set_xlabel('Time (s)')\n",
    "    ax.set_ylabel('Concentraion of stuff')\n",
    "    \n",
    "    #plt.title(title)\n",
    "    \n",
    "    plt.ioff()\n",
    "    plt.ion()\n",
    "    #plt.savefig(\"imgs/\" + title)\n",
    "       \n",
    "    \n",
    "    fig2, ax2 = plt.subplots(layout = 'constrained')\n",
    "    \n",
    "    \n",
    "    for lineName in list(dataForIntervals.keys()):\n",
    "        y = dataForIntervals[lineName]\n",
    "        x = np.linspace(0, timeF, len(y))     \n",
    "        ax2.plot(x, y, label = lineName)\n",
    "    \n",
    "    \n",
    "    plt.show()\n",
    "    \n",
    "    ax2.set_yscale(\"linear\")\n",
    "    ax2.set_xscale(\"linear\")\n",
    "    plt.grid(which = 'both')\n",
    "    \n",
    "    h2, l2 = ax2.get_legend_handles_labels()\n",
    "    ax2.legend(h2, l2, loc='best', fontsize=\"8\") #legend is smaller and customizable as can be seen in the plot functions above\n",
    "    \n",
    "    ax2.set_xlabel('Time (s)')\n",
    "    ax2.set_ylabel('Concentraion of stuff')\n",
    "    \n",
    "    #plt.title(title)\n",
    "    \n",
    "    plt.ioff()\n",
    "    plt.ion()\n",
    "    #plt.savefig(\"imgs/\" + title)\n",
    "    \n",
    "    fig3, ax3 = plt.subplots(layout = 'constrained')\n",
    "    \n",
    "    \n",
    "    lambdas = initialConditions[0]\n",
    "    x = np.linspace(0, timeF, int(timeF/0.1))\n",
    "    y = np.zeros(len(x))\n",
    "    for i in range(0, len(x)):\n",
    "        y[i] = (lambdas[0]/(lambdas[1]-lambdas[0]))*(inits[0])*(math.exp(-1*lambdas[0]*x[i])-math.exp(-1*lambdas[1]*x[i]))\n",
    "    \n",
    "    ax3.plot(x, y)\n",
    "    \n",
    "    plt.show()\n",
    "    \n",
    "    ax3.set_yscale(\"linear\")\n",
    "    ax3.set_xscale(\"linear\")\n",
    "    plt.grid(which = 'both')\n",
    "    \n",
    "    h1, l1 = ax3.get_legend_handles_labels()\n",
    "    ax3.legend(h1, l1, loc='best', fontsize=\"8\") #legend is smaller and customizable as can be seen in the plot functions above\n",
    "    \n",
    "    ax3.set_xlabel('Time (s)')\n",
    "    ax3.set_ylabel('Concentraion of stuff')\n",
    "    \n",
    "    #plt.title(title)\n",
    "    \n",
    "    plt.ioff()\n",
    "    plt.ion()\n",
    "    "
   ]
  },
  {
   "cell_type": "code",
   "execution_count": 121,
   "id": "76c5df1f",
   "metadata": {},
   "outputs": [],
   "source": [
    "createAllGraphs(\"Output file.json\")"
   ]
  },
  {
   "cell_type": "code",
   "execution_count": null,
   "id": "6b5b86d7",
   "metadata": {},
   "outputs": [],
   "source": []
  }
 ],
 "metadata": {
  "kernelspec": {
   "display_name": "Python 3 (ipykernel)",
   "language": "python",
   "name": "python3"
  },
  "language_info": {
   "codemirror_mode": {
    "name": "ipython",
    "version": 3
   },
   "file_extension": ".py",
   "mimetype": "text/x-python",
   "name": "python",
   "nbconvert_exporter": "python",
   "pygments_lexer": "ipython3",
   "version": "3.11.5"
  }
 },
 "nbformat": 4,
 "nbformat_minor": 5
}
