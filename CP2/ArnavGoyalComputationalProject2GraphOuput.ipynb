{
 "cells": [
  {
   "cell_type": "code",
   "execution_count": 1,
   "id": "dd9e150a",
   "metadata": {},
   "outputs": [
    {
     "name": "stdout",
     "output_type": "stream",
     "text": [
      "Using matplotlib backend: <object object at 0x0000016F3D937590>\n"
     ]
    }
   ],
   "source": [
    "%matplotlib\n",
    "import matplotlib.pyplot as plt\n",
    "import numpy as np\n",
    "import os \n",
    "import csv"
   ]
  },
  {
   "cell_type": "code",
   "execution_count": null,
   "id": "1291ae24",
   "metadata": {},
   "outputs": [],
   "source": [
    "def "
   ]
  },
  {
   "cell_type": "code",
   "execution_count": 109,
   "id": "c6697a81",
   "metadata": {},
   "outputs": [],
   "source": [
    "def readCSV(filename):\n",
    "    \n",
    "    absorptions = []\n",
    "    fissions = []\n",
    "    chis = []\n",
    "    SctData = []\n",
    "    \n",
    "    with open(filename, 'r') as file:\n",
    "        \n",
    "        csvreader = csv.reader(file)\n",
    "        next(csvreader)#Title for Data\n",
    "        next(csvreader)#Titles of Cross-Sections\n",
    "        i=0\n",
    "        \n",
    "        \n",
    "        for row in csvreader:\n",
    "            #print(row)\n",
    "            try:\n",
    "                absorptions.append(float(row[1]))\n",
    "                fissions.append(float(row[2]))\n",
    "                chis.append(float(row[3]))\n",
    "                i+=1\n",
    "            except:\n",
    "                \n",
    "                break\n",
    "        \n",
    "        next(csvreader) #skips straight to next data\n",
    "        \n",
    "            \n",
    "        length = len(absorptions)+1\n",
    "        #print(length)\n",
    "        \n",
    "        for row in csvreader:\n",
    "            #print(row)\n",
    "            \n",
    "            SctData.append([float(number) for number in row[1:length]])\n",
    "            \n",
    "    #print(absorptions)\n",
    "    #print(fissions)\n",
    "    #print(chis)\n",
    "    #print(SctData)\n",
    "    \n",
    "    absMatr = []\n",
    "    inSctMatr = []\n",
    "    outSctMatr = []\n",
    "    \n",
    "    data = {}    \n",
    "    return data"
   ]
  },
  {
   "cell_type": "code",
   "execution_count": 110,
   "id": "5556e985",
   "metadata": {},
   "outputs": [
    {
     "name": "stdout",
     "output_type": "stream",
     "text": [
      "9\n",
      "['1', '0.1179', '0', '0', '0', '0', '0', '0', '0']\n",
      "['2', '0.053', '0.1949', '0', '0', '0', '0', '0', '0']\n",
      "['3', '0.0301', '0.1159', '0.5868', '0', '0', '0', '0', '0']\n",
      "['4', '0.0001', '0.0005', '0.0769', '0.8234', '0', '0', '0', '0']\n",
      "['5', '0', '0', '0.0019', '0.1961', '0.818', '0', '0', '0']\n",
      "['6', '0', '0', '0', '0.005', '0.1737', '0.6902', '0.0023', '0']\n",
      "['7', '0', '0', '0', '0.0007', '0.0246', '0.2707', '0.8626', '0.0275']\n",
      "['8', '0', '0', '0', '0.0001', '0.0073', '0.055', '0.3589', '1.9761']\n",
      "[0.0056, 0.0029, 0.0025, 0.0133, 0.0473, 0.018, 0.0558, 0.1798]\n",
      "[0.0134, 0.0056, 0.0011, 0.0067, 0.022, 0.0222, 0.0897, 0.2141]\n",
      "[0.3507, 0.4105, 0.2388, 0.0, 0.0, 0.0, 0.0, 0.0]\n",
      "[[0.1179, 0.0, 0.0, 0.0, 0.0, 0.0, 0.0, 0.0], [0.053, 0.1949, 0.0, 0.0, 0.0, 0.0, 0.0, 0.0], [0.0301, 0.1159, 0.5868, 0.0, 0.0, 0.0, 0.0, 0.0], [0.0001, 0.0005, 0.0769, 0.8234, 0.0, 0.0, 0.0, 0.0], [0.0, 0.0, 0.0019, 0.1961, 0.818, 0.0, 0.0, 0.0], [0.0, 0.0, 0.0, 0.005, 0.1737, 0.6902, 0.0023, 0.0], [0.0, 0.0, 0.0, 0.0007, 0.0246, 0.2707, 0.8626, 0.0275], [0.0, 0.0, 0.0, 0.0001, 0.0073, 0.055, 0.3589, 1.9761]]\n"
     ]
    },
    {
     "data": {
      "text/plain": [
       "{}"
      ]
     },
     "execution_count": 110,
     "metadata": {},
     "output_type": "execute_result"
    }
   ],
   "source": [
    "readCSV(\"InputDataCSVGroup8.csv\")"
   ]
  },
  {
   "cell_type": "code",
   "execution_count": null,
   "id": "1a97ba05",
   "metadata": {},
   "outputs": [],
   "source": []
  }
 ],
 "metadata": {
  "kernelspec": {
   "display_name": "Python 3 (ipykernel)",
   "language": "python",
   "name": "python3"
  },
  "language_info": {
   "codemirror_mode": {
    "name": "ipython",
    "version": 3
   },
   "file_extension": ".py",
   "mimetype": "text/x-python",
   "name": "python",
   "nbconvert_exporter": "python",
   "pygments_lexer": "ipython3",
   "version": "3.11.5"
  }
 },
 "nbformat": 4,
 "nbformat_minor": 5
}
