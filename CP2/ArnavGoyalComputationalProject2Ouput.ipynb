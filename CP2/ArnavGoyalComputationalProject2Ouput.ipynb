{
 "cells": [
  {
   "cell_type": "code",
   "execution_count": 1,
   "id": "ff9f2347",
   "metadata": {},
   "outputs": [
    {
     "name": "stdout",
     "output_type": "stream",
     "text": [
      "Using matplotlib backend: <object object at 0x0000016F3D937590>\n"
     ]
    }
   ],
   "source": [
    "%matplotlib\n",
    "import matplotlib.pyplot as plt\n",
    "import numpy as np\n",
    "import os \n",
    "import csv"
   ]
  },
  {
   "cell_type": "code",
   "execution_count": 153,
   "id": "f6a879be",
   "metadata": {},
   "outputs": [],
   "source": [
    "def createFissMatr(fissions, chis):\n",
    "    fissMatr = np.zeros((len(fissions),len(fissions)))\n",
    "    for i in range(0, len(fissMatr)):\n",
    "        for j in range(0,len(fissMatr[0])):\n",
    "            fissMatr[i][j] = fissions[j]*chis[i]\n",
    "    return fissMatr"
   ]
  },
  {
   "cell_type": "code",
   "execution_count": 154,
   "id": "4d07fed9",
   "metadata": {},
   "outputs": [],
   "source": [
    "def readCSV(filename):\n",
    "    \n",
    "    absorptions = []\n",
    "    fissions = []\n",
    "    chis = []\n",
    "    SctData = []\n",
    "    \n",
    "    with open(filename, 'r') as file:\n",
    "        \n",
    "        csvreader = csv.reader(file)\n",
    "        next(csvreader)#Title for Data\n",
    "        next(csvreader)#Titles of Cross-Sections\n",
    "        i=0\n",
    "        \n",
    "        \n",
    "        for row in csvreader:\n",
    "            #print(row)\n",
    "            try:\n",
    "                absorptions.append(float(row[1]))\n",
    "                fissions.append(float(row[2]))\n",
    "                chis.append(float(row[3]))\n",
    "                i+=1\n",
    "            except:\n",
    "                \n",
    "                break\n",
    "        \n",
    "        next(csvreader) #skips straight to next data\n",
    "        \n",
    "            \n",
    "        length = len(absorptions)+1\n",
    "        #print(length)\n",
    "        \n",
    "        for row in csvreader:\n",
    "            #print(row)\n",
    "            \n",
    "            SctData.append([float(number) for number in row[1:length]])\n",
    "            \n",
    "    #print(absorptions)\n",
    "    #print(fissions)\n",
    "    #print(chis)\n",
    "    #print(SctData)\n",
    "    \n",
    "    absMatr = np.diag(absorptions)\n",
    "    \n",
    "    fissMatr = createFissMatr(fissions,chis)\n",
    "    #print(fissMatr)\n",
    "    \n",
    "    inSctMatr = []\n",
    "    outSctMatr = []\n",
    "    \n",
    "    data = {}    \n",
    "    return data"
   ]
  },
  {
   "cell_type": "code",
   "execution_count": 156,
   "id": "9a95702f",
   "metadata": {},
   "outputs": [
    {
     "name": "stdout",
     "output_type": "stream",
     "text": [
      "[[0.00469938 0.00196392 0.00038577 0.00234969 0.0077154  0.00778554\n",
      "  0.03145779 0.07508487]\n",
      " [0.0055007  0.0022988  0.00045155 0.00275035 0.009031   0.0091131\n",
      "  0.03682185 0.08788805]\n",
      " [0.00319992 0.00133728 0.00026268 0.00159996 0.0052536  0.00530136\n",
      "  0.02142036 0.05112708]\n",
      " [0.         0.         0.         0.         0.         0.\n",
      "  0.         0.        ]\n",
      " [0.         0.         0.         0.         0.         0.\n",
      "  0.         0.        ]\n",
      " [0.         0.         0.         0.         0.         0.\n",
      "  0.         0.        ]\n",
      " [0.         0.         0.         0.         0.         0.\n",
      "  0.         0.        ]\n",
      " [0.         0.         0.         0.         0.         0.\n",
      "  0.         0.        ]]\n"
     ]
    },
    {
     "data": {
      "text/plain": [
       "{}"
      ]
     },
     "execution_count": 156,
     "metadata": {},
     "output_type": "execute_result"
    }
   ],
   "source": [
    "readCSV(\"InputDataCSVGroup8.csv\")"
   ]
  },
  {
   "cell_type": "code",
   "execution_count": null,
   "id": "5a38e072",
   "metadata": {},
   "outputs": [],
   "source": []
  },
  {
   "cell_type": "code",
   "execution_count": null,
   "id": "e9d4c6a0",
   "metadata": {},
   "outputs": [],
   "source": []
  }
 ],
 "metadata": {
  "kernelspec": {
   "display_name": "Python 3 (ipykernel)",
   "language": "python",
   "name": "python3"
  },
  "language_info": {
   "codemirror_mode": {
    "name": "ipython",
    "version": 3
   },
   "file_extension": ".py",
   "mimetype": "text/x-python",
   "name": "python",
   "nbconvert_exporter": "python",
   "pygments_lexer": "ipython3",
   "version": "3.11.5"
  }
 },
 "nbformat": 4,
 "nbformat_minor": 5
}
