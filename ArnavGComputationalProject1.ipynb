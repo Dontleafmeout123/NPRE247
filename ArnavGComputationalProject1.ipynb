{
 "cells": [
  {
   "cell_type": "code",
   "execution_count": 14,
   "id": "d6ea8724",
   "metadata": {},
   "outputs": [],
   "source": [
    "import numpy as np\n",
    "import math"
   ]
  },
  {
   "cell_type": "code",
   "execution_count": 28,
   "id": "dc46b868",
   "metadata": {},
   "outputs": [],
   "source": [
    "def readInputFile(filename):\n",
    "    #get the data from the input file as a list\n",
    "    data = []\n",
    "    with open(filename, \"r\") as f:\n",
    "        lines = f.readlines()# easier to type out lines\n",
    "        #print(lines)\n",
    "        for i in range(2, len(lines)):\n",
    "            line = lines[i]\n",
    "            infoNeeded = line[:line.find(\" \")]\n",
    "            if infoNeeded.lower() != \"stable\":\n",
    "                data.append(float(infoNeeded))\n",
    "            else:\n",
    "                data.append(0)\n",
    "    \n",
    "    #data = np.array(data)\n",
    "    \n",
    "    return data"
   ]
  },
  {
   "cell_type": "code",
   "execution_count": 54,
   "id": "7b58ee0f",
   "metadata": {},
   "outputs": [],
   "source": [
    "def getHalfLives(data):\n",
    "    \n",
    "    halfLives = data[0:3]\n",
    "    for i in range(0, len(halfLives)):\n",
    "        if halfLives[i] != 0:\n",
    "            halfLives[i] = 0.693 / halfLives[i]\n",
    "        else:\n",
    "            halfLives[i] = 0\n",
    "    \n",
    "    return halfLives"
   ]
  },
  {
   "cell_type": "code",
   "execution_count": 55,
   "id": "6054ab1e",
   "metadata": {},
   "outputs": [],
   "source": [
    "def getInitialConditions(data):\n",
    "    \n",
    "    initialConditions = data[3:6]\n",
    "    timeTotal = data[-2]\n",
    "    deltaT = data[-1]\n",
    "    \n",
    "    return initialConditions, timeTotal, deltaT"
   ]
  },
  {
   "cell_type": "code",
   "execution_count": 85,
   "id": "21c80f7e",
   "metadata": {},
   "outputs": [],
   "source": [
    "def numericallyA(initial, halflife, tf, dT):\n",
    "    \n",
    "    na = np.zeros(int(tf/dT))\n",
    "    \n",
    "    na[0] = initial\n",
    "    \n",
    "    for i in range(1, len(na)):\n",
    "        na[i] = na[i-1] + (dT*na[i-1]*-1*halflife)\n",
    "    \n",
    "    return na"
   ]
  },
  {
   "cell_type": "code",
   "execution_count": 86,
   "id": "ffed6e8f",
   "metadata": {},
   "outputs": [],
   "source": [
    "def numericallyB(initial, halflifeA, halflifeB, tf, dT, na):\n",
    "    \n",
    "    nb = np.zeros(int(tf/dT))\n",
    "    \n",
    "    nb[0] = initial\n",
    "    \n",
    "    for i in range(1, len(nb)):\n",
    "        nb[i] = nb[i-1] + (dT*na[i-1]*1*halflifeA) - (dT*nb[i-1]*halflifeB)\n",
    "    \n",
    "    return nb"
   ]
  },
  {
   "cell_type": "code",
   "execution_count": 94,
   "id": "90be498a",
   "metadata": {},
   "outputs": [],
   "source": [
    "def numericallyC(initial, halflifeB, tf, dT, nb):\n",
    "    \n",
    "    nc = np.zeros(int(tf/dT))\n",
    "    \n",
    "    nc[0] = initial\n",
    "    \n",
    "    for i in range(1, len(nc)):\n",
    "        nc[i] = nc[i-1] + (dT*nb[i-1]*1*halflifeB)\n",
    "    \n",
    "    return nc"
   ]
  },
  {
   "cell_type": "code",
   "execution_count": 95,
   "id": "658c565f",
   "metadata": {},
   "outputs": [],
   "source": [
    "def complete(filename):\n",
    "    rawInput = readInputFile(filename)\n",
    "    \n",
    "    #print(rawInput)\n",
    "    \n",
    "    halfs = getHalfLives(rawInput)\n",
    "    \n",
    "    inits, tf, dT = getInitialConditions(rawInput)\n",
    "    \n",
    "    numerical_Na = numericallyA(inits[0], halfs[0], tf, dT)\n",
    "    \n",
    "    numerical_Nb = numericallyB(inits[1], halfs[0], halfs[1], tf, dT, numerical_Na)\n",
    "    \n",
    "    numerical_Nc = numericallyC(inits[2], halfs[1], tf, dT, numerical_Nb)\n",
    "    \n",
    "    total = numerical_Na + numerical_Nb + numerical_Nc\n",
    "    \n",
    "    return(numerical_Na, numerical_Nb, numerical_Nc, total)"
   ]
  },
  {
   "cell_type": "code",
   "execution_count": 96,
   "id": "2b956277",
   "metadata": {},
   "outputs": [
    {
     "data": {
      "text/plain": [
       "(array([1.00000000e+02, 7.05106383e+01, 4.97175011e+01, 3.50561274e+01,\n",
       "        2.47182992e+01, 1.74290305e+01, 1.22893207e+01, 8.66527845e+00,\n",
       "        6.10994315e+00, 4.30815991e+00, 3.03771105e+00, 2.14190945e+00,\n",
       "        1.51027403e+00, 1.06490386e+00, 7.50870507e-01, 5.29443587e-01,\n",
       "        3.73314053e-01, 2.63226121e-01, 1.85602418e-01, 1.30869450e-01,\n",
       "        9.22768844e-02, 6.50650202e-02, 4.58777611e-02, 3.23487022e-02,\n",
       "        2.28092764e-02, 1.60829664e-02, 1.13402022e-02, 7.99604898e-03,\n",
       "        5.63806518e-03, 3.97543574e-03, 2.80310512e-03, 1.97648731e-03,\n",
       "        1.39363382e-03, 9.82660101e-04, 6.92879910e-04, 4.88554047e-04,\n",
       "        3.44482577e-04, 2.42896864e-04, 1.71268129e-04, 1.20762251e-04,\n",
       "        8.51502340e-05, 6.00399735e-05, 4.23345686e-05, 2.98503745e-05,\n",
       "        2.10476896e-05, 1.48408603e-05, 1.04643853e-05, 7.37850488e-06,\n",
       "        5.20263089e-06, 3.66840825e-06, 2.58661807e-06, 1.82384091e-06,\n",
       "        1.28600187e-06, 9.06768126e-07, 6.39367994e-07, 4.50822453e-07,\n",
       "        3.17877789e-07, 2.24137658e-07, 1.58040894e-07, 1.11435643e-07]),\n",
       " array([ 0.        , 29.4893617 , 48.43307555, 60.05697224, 66.62833151,\n",
       "        69.73900888, 70.50504152, 69.70736486, 67.89100751, 65.43501081,\n",
       "        62.60170741, 59.57144718, 56.46706334, 53.37110546, 50.33797356,\n",
       "        47.40245788, 44.58574549, 41.89964142, 39.34953195, 36.9364617 ,\n",
       "        34.65858657, 32.51218753, 30.49237516, 28.59357698, 26.80987216,\n",
       "        25.13521916, 23.56360836, 22.08916242, 20.70620008, 19.40927477,\n",
       "        18.19319576, 17.05303734, 15.98414011, 14.98210682, 14.04279479,\n",
       "        13.16230619, 12.33697713, 11.56336603, 10.83824194, 10.15857284,\n",
       "         9.52151425,  8.92439824,  8.36472291,  7.84014237,  7.34845717,\n",
       "         6.88760539,  6.45565406,  6.05079124,  5.67131845,  5.31564363,\n",
       "         4.98227449,  4.66981224,  4.37694582,  4.10244634,  3.84516197,\n",
       "         3.60401308,  3.37798778,  3.1661376 ,  2.96757356,  2.78146243]),\n",
       " array([ 0.        ,  0.        ,  1.84942332,  4.88690036,  8.6533693 ,\n",
       "        12.83196059, 17.2056378 , 21.62735669, 25.99904935, 30.25682928,\n",
       "        34.36058154, 38.28664337, 42.02266263, 45.56399068, 48.91115594,\n",
       "        52.06809853, 55.04094046, 57.83713246, 60.46486563, 62.93266885,\n",
       "        65.24913654, 67.42274745, 69.46174708, 71.37407432, 73.16731856,\n",
       "        74.84869787, 76.42505144, 77.90284154, 79.28816186, 80.58674979,\n",
       "        81.80400114, 82.94498618, 84.01446626, 85.01691052, 85.95651233,\n",
       "        86.83720525, 87.66267839, 88.43639108, 89.16158679, 89.8413064 ,\n",
       "        90.4784006 , 91.07554172, 91.63523475, 92.15982778, 92.65152178,\n",
       "        93.11237977, 93.54433548, 93.94920138, 94.32867634, 94.6843527 ,\n",
       "        95.01772293, 95.33018593, 95.62305289, 95.89755275, 96.15483739,\n",
       "        96.39598647, 96.6220119 , 96.83386218, 97.03242628, 97.21853746]),\n",
       " array([100., 100., 100., 100., 100., 100., 100., 100., 100., 100., 100.,\n",
       "        100., 100., 100., 100., 100., 100., 100., 100., 100., 100., 100.,\n",
       "        100., 100., 100., 100., 100., 100., 100., 100., 100., 100., 100.,\n",
       "        100., 100., 100., 100., 100., 100., 100., 100., 100., 100., 100.,\n",
       "        100., 100., 100., 100., 100., 100., 100., 100., 100., 100., 100.,\n",
       "        100., 100., 100., 100., 100.]))"
      ]
     },
     "execution_count": 96,
     "metadata": {},
     "output_type": "execute_result"
    }
   ],
   "source": [
    "complete(\"Sample input file.txt\")"
   ]
  },
  {
   "cell_type": "code",
   "execution_count": null,
   "id": "906f0990",
   "metadata": {},
   "outputs": [],
   "source": []
  }
 ],
 "metadata": {
  "kernelspec": {
   "display_name": "Python 3 (ipykernel)",
   "language": "python",
   "name": "python3"
  },
  "language_info": {
   "codemirror_mode": {
    "name": "ipython",
    "version": 3
   },
   "file_extension": ".py",
   "mimetype": "text/x-python",
   "name": "python",
   "nbconvert_exporter": "python",
   "pygments_lexer": "ipython3",
   "version": "3.11.5"
  }
 },
 "nbformat": 4,
 "nbformat_minor": 5
}
