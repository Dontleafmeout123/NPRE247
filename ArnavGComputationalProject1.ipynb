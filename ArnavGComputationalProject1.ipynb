{
 "cells": [
  {
   "cell_type": "code",
   "execution_count": 2,
   "id": "d6ea8724",
   "metadata": {},
   "outputs": [],
   "source": [
    "import numpy as np\n",
    "import math"
   ]
  },
  {
   "cell_type": "code",
   "execution_count": 3,
   "id": "dc46b868",
   "metadata": {},
   "outputs": [],
   "source": [
    "def readInputFile(filename):\n",
    "    #get the data from the input file as a list\n",
    "    data = []\n",
    "    with open(filename, \"r\") as f:\n",
    "        lines = f.readlines()# easier to type out lines\n",
    "        #print(lines)\n",
    "        for i in range(2, len(lines)):\n",
    "            line = lines[i]\n",
    "            infoNeeded = line[:line.find(\" \")]\n",
    "            if infoNeeded.lower() != \"stable\":\n",
    "                data.append(float(infoNeeded))\n",
    "            else:\n",
    "                data.append(0)\n",
    "    \n",
    "    #data = np.array(data)\n",
    "    \n",
    "    return data"
   ]
  },
  {
   "cell_type": "code",
   "execution_count": 4,
   "id": "7b58ee0f",
   "metadata": {},
   "outputs": [],
   "source": [
    "def getHalfLives(data):\n",
    "    \n",
    "    halfLives = data[0:3]\n",
    "    for i in range(0, len(halfLives)):\n",
    "        if halfLives[i] != 0:\n",
    "            halfLives[i] = 0.693 / halfLives[i]\n",
    "        else:\n",
    "            halfLives[i] = 0\n",
    "    \n",
    "    return halfLives"
   ]
  },
  {
   "cell_type": "code",
   "execution_count": 5,
   "id": "6054ab1e",
   "metadata": {},
   "outputs": [],
   "source": [
    "def getInitialConditions(data):\n",
    "    \n",
    "    initialConditions = data[3:6]\n",
    "    timeTotal = data[-2]\n",
    "    deltaT = data[-1]\n",
    "    \n",
    "    return initialConditions, timeTotal, deltaT"
   ]
  },
  {
   "cell_type": "code",
   "execution_count": 6,
   "id": "21c80f7e",
   "metadata": {},
   "outputs": [],
   "source": [
    "def numericallyA(initial, halflife, tf, dT):\n",
    "    \n",
    "    na = np.zeros(int(tf/dT))\n",
    "    \n",
    "    na[0] = initial\n",
    "    \n",
    "    for i in range(1, len(na)):\n",
    "        na[i] = na[i-1] + (dT*na[i-1]*-1*halflife)\n",
    "    \n",
    "    return na"
   ]
  },
  {
   "cell_type": "code",
   "execution_count": 7,
   "id": "ffed6e8f",
   "metadata": {},
   "outputs": [],
   "source": [
    "def numericallyB(initial, halflifeA, halflifeB, tf, dT, na):\n",
    "    \n",
    "    nb = np.zeros(int(tf/dT))\n",
    "    \n",
    "    nb[0] = initial\n",
    "    \n",
    "    for i in range(1, len(nb)):\n",
    "        nb[i] = nb[i-1] + (dT*na[i-1]*1*halflifeA) - (dT*nb[i-1]*halflifeB)\n",
    "    \n",
    "    return nb"
   ]
  },
  {
   "cell_type": "code",
   "execution_count": 8,
   "id": "90be498a",
   "metadata": {},
   "outputs": [],
   "source": [
    "def numericallyC(initial, halflifeB, tf, dT, nb):\n",
    "    \n",
    "    nc = np.zeros(int(tf/dT))\n",
    "    \n",
    "    nc[0] = initial\n",
    "    \n",
    "    for i in range(1, len(nc)):\n",
    "        nc[i] = nc[i-1] + (dT*nb[i-1]*1*halflifeB)\n",
    "    \n",
    "    return nc"
   ]
  },
  {
   "cell_type": "code",
   "execution_count": 19,
   "id": "658c565f",
   "metadata": {},
   "outputs": [],
   "source": [
    "def completeNumericalMethod(inits, halfs, tf, dT):\n",
    "    \n",
    "    data = {}\n",
    "    \n",
    "    data[\"Na using numerical\"] = np.array(numericallyA(inits[0], halfs[0], tf, dT))\n",
    "    \n",
    "    data[\"Nb using numerical\"] = np.array(numericallyB(inits[1], halfs[0], halfs[1], tf, dT, data[\"Na using numerical\"]))\n",
    "    \n",
    "    data[\"Nc using numerical\"] = np.array(numericallyC(inits[2], halfs[1], tf, dT, data[\"Nb using numerical\"]))\n",
    "    \n",
    "    data[\"total\"] = data[\"Na using numerical\"] + data[\"Nb using numerical\"] + data[\"Nc using numerical\"]\n",
    "    \n",
    "    return data"
   ]
  },
  {
   "cell_type": "code",
   "execution_count": 10,
   "id": "2b956277",
   "metadata": {},
   "outputs": [],
   "source": [
    "def allNumericalInfo(filename):\n",
    "    rawInput = readInputFile(filename)\n",
    "    \n",
    "    #print(rawInput)\n",
    "    \n",
    "    halfs = getHalfLives(rawInput)\n",
    "    \n",
    "    inits, tf, dT = getInitialConditions(rawInput)\n",
    "\n",
    "    return (completeNumericalMethod(inits, halfs, tf, dT))\n",
    "    "
   ]
  },
  {
   "cell_type": "code",
   "execution_count": 25,
   "id": "d4a285b3",
   "metadata": {},
   "outputs": [],
   "source": [
    "def Nb_with_dif_coarseness(filename):\n",
    "    rawInput = readInputFile(filename)\n",
    "    \n",
    "    #print(rawInput)\n",
    "    \n",
    "    halfs = getHalfLives(rawInput)\n",
    "    \n",
    "    inits, tf, dT = getInitialConditions(rawInput)\n",
    "    \n",
    "    combined = {}\n",
    "\n",
    "    for i in range(0,3):\n",
    "        \n",
    "        interval = dT / (2**i)\n",
    "        \n",
    "        data =  completeNumericalMethod(inits, halfs, tf, interval)\n",
    "    \n",
    "        title = \"Nb with interval of \" + str(interval)\n",
    "    \n",
    "        combined[title] = data[\"Nb using numerical\"]\n",
    "    \n",
    "    \n",
    "    return (combined)"
   ]
  },
  {
   "cell_type": "code",
   "execution_count": 32,
   "id": "906f0990",
   "metadata": {},
   "outputs": [],
   "source": [
    "def writeToOutputfile(outputFile, inputFile):\n",
    "    with open(outputFile, \"w\") as f:\n",
    "        f.write(\"These are the points for all three elements and the total over the given input time and delta t \\n \\n \\n\")\n",
    "        \n",
    "        data = allNumericalInfo(inputFile)\n",
    "        \n",
    "        for channel in list(data.keys()):\n",
    "            f.write(\"Data for \" + channel + \"\\n\")\n",
    "            f.write(\"\\n\")\n",
    "            f.writelines(str(data[channel]))\n",
    "            f.write(\"\\n\")\n",
    "            f.write(\"\\n\")\n",
    "        \n",
    "        f.write(\"\\n\")\n",
    "        f.write(\"\\n\")\n",
    "        \n",
    "        data = Nb_with_dif_coarseness(inputFile)\n",
    "        \n",
    "        for channel in list(data.keys()):\n",
    "            f.write(\"Data for \" + channel + \"\\n\")\n",
    "            f.write(\"\\n\")\n",
    "            f.writelines(str(data[channel]))\n",
    "            f.write(\"\\n\")\n",
    "            f.write(\"\\n\")\n",
    "        \n",
    "        "
   ]
  },
  {
   "cell_type": "code",
   "execution_count": 34,
   "id": "4f7d8cf8",
   "metadata": {},
   "outputs": [],
   "source": [
    "writeToOutputfile(\"Output file.txt\", \"Sample input file.txt\")"
   ]
  },
  {
   "cell_type": "code",
   "execution_count": null,
   "id": "33621f6a",
   "metadata": {},
   "outputs": [],
   "source": []
  }
 ],
 "metadata": {
  "kernelspec": {
   "display_name": "Python 3 (ipykernel)",
   "language": "python",
   "name": "python3"
  },
  "language_info": {
   "codemirror_mode": {
    "name": "ipython",
    "version": 3
   },
   "file_extension": ".py",
   "mimetype": "text/x-python",
   "name": "python",
   "nbconvert_exporter": "python",
   "pygments_lexer": "ipython3",
   "version": "3.11.5"
  }
 },
 "nbformat": 4,
 "nbformat_minor": 5
}
