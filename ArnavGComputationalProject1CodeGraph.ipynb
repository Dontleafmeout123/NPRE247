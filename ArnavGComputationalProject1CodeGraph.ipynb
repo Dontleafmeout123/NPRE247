{
 "cells": [
  {
   "cell_type": "code",
   "execution_count": 38,
   "id": "bc8c96f0",
   "metadata": {},
   "outputs": [
    {
     "name": "stdout",
     "output_type": "stream",
     "text": [
      "Using matplotlib backend: <object object at 0x0000028F589EC2C0>\n"
     ]
    }
   ],
   "source": [
    "%matplotlib\n",
    "import matplotlib.pyplot as plt\n",
    "import json\n",
    "import numpy as np\n",
    "import math"
   ]
  },
  {
   "cell_type": "code",
   "execution_count": 39,
   "id": "a0dbf4b1",
   "metadata": {},
   "outputs": [],
   "source": [
    "def readOutputFile(outputFile):\n",
    "    with open(outputFile, 'r') as j:\n",
    "        data = json.loads(j.read())\n",
    "    return data"
   ]
  },
  {
   "cell_type": "code",
   "execution_count": 60,
   "id": "45ec202a",
   "metadata": {},
   "outputs": [],
   "source": [
    "def createAllGraphs(outputFile):\n",
    "    \n",
    "    allData = readOutputFile(outputFile)\n",
    "    dataForThree = allData[0]\n",
    "    dataForIntervals = allData[1]\n",
    "    initialConditions = allData[-1]#in form [list Of initial amounts, total time, delta t]\n",
    "    \n",
    "    fig, ax = plt.subplots(layout = 'constrained')\n",
    "    \n",
    "    \n",
    "    for lineName in list(dataForThree.keys()):\n",
    "        y = dataForThree[lineName]\n",
    "        num = int(initialConditions[1]/initialConditions[2])\n",
    "        #print(num)\n",
    "        x = np.linspace(0, initialConditions[1], num)        \n",
    "        ax.plot(x, y, label = lineName)\n",
    "    \n",
    "    \n",
    "    plt.show()\n",
    "    \n",
    "    ax.set_yscale(\"linear\")\n",
    "    ax.set_xscale(\"linear\")\n",
    "    plt.grid(which = 'both')\n",
    "    \n",
    "    h1, l1 = ax.get_legend_handles_labels()\n",
    "    ax.legend(h1, l1, loc='best', fontsize=\"8\") #legend is smaller and customizable as can be seen in the plot functions above\n",
    "    \n",
    "    ax.set_xlabel('Time (s)')\n",
    "    ax.set_ylabel('Concentraion of stuff')\n",
    "    \n",
    "    #plt.title(title)\n",
    "    \n",
    "    plt.ioff()\n",
    "    plt.ion()\n",
    "    #plt.savefig(\"imgs/\" + title)\n",
    "       \n",
    "    \n",
    "    fig2, ax2 = plt.subplots(layout = 'constrained')\n",
    "    \n",
    "    \n",
    "    for lineName in list(dataForIntervals.keys()):\n",
    "        y = dataForIntervals[lineName]\n",
    "        print(len(y))\n",
    "        x = np.linspace(0, initialConditions[1], len(y))     \n",
    "        ax2.plot(x, y, label = lineName)\n",
    "    \n",
    "    \n",
    "    plt.show()\n",
    "    \n",
    "    ax2.set_yscale(\"linear\")\n",
    "    ax2.set_xscale(\"linear\")\n",
    "    plt.grid(which = 'both')\n",
    "    \n",
    "    h1, l1 = ax2.get_legend_handles_labels()\n",
    "    ax2.legend(h1, l1, loc='best', fontsize=\"8\") #legend is smaller and customizable as can be seen in the plot functions above\n",
    "    \n",
    "    ax2.set_xlabel('Time (s)')\n",
    "    ax2.set_ylabel('Concentraion of stuff')\n",
    "    \n",
    "    #plt.title(title)\n",
    "    \n",
    "    plt.ioff()\n",
    "    plt.ion()\n",
    "    #plt.savefig(\"imgs/\" + title)\n",
    "    \n",
    "    \n",
    "    "
   ]
  },
  {
   "cell_type": "code",
   "execution_count": 61,
   "id": "76c5df1f",
   "metadata": {},
   "outputs": [
    {
     "name": "stdout",
     "output_type": "stream",
     "text": [
      "60\n",
      "120\n",
      "240\n"
     ]
    }
   ],
   "source": [
    "createAllGraphs(\"Output file.json\")"
   ]
  },
  {
   "cell_type": "code",
   "execution_count": null,
   "id": "8bd769f7",
   "metadata": {},
   "outputs": [],
   "source": []
  }
 ],
 "metadata": {
  "kernelspec": {
   "display_name": "Python 3 (ipykernel)",
   "language": "python",
   "name": "python3"
  },
  "language_info": {
   "codemirror_mode": {
    "name": "ipython",
    "version": 3
   },
   "file_extension": ".py",
   "mimetype": "text/x-python",
   "name": "python",
   "nbconvert_exporter": "python",
   "pygments_lexer": "ipython3",
   "version": "3.11.5"
  }
 },
 "nbformat": 4,
 "nbformat_minor": 5
}
