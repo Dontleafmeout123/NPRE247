{
 "cells": [
  {
   "cell_type": "code",
   "execution_count": 1,
   "id": "d6ea8724",
   "metadata": {},
   "outputs": [],
   "source": [
    "import numpy as np\n",
    "import math\n",
    "import json"
   ]
  },
  {
   "cell_type": "code",
   "execution_count": 2,
   "id": "dc46b868",
   "metadata": {},
   "outputs": [],
   "source": [
    "def readInputFile(filename):\n",
    "    #get the data from the input file as a list\n",
    "    data = []\n",
    "    with open(filename, \"r\") as f:\n",
    "        lines = f.readlines()# easier to type out lines\n",
    "        #print(lines)\n",
    "        for i in range(2, len(lines)):\n",
    "            line = lines[i]\n",
    "            infoNeeded = line[:line.find(\" \")]\n",
    "            if infoNeeded.lower() != \"stable\":\n",
    "                data.append(float(infoNeeded))\n",
    "            else:\n",
    "                data.append(0)\n",
    "    \n",
    "    #data = np.array(data)\n",
    "    \n",
    "    return data"
   ]
  },
  {
   "cell_type": "code",
   "execution_count": 3,
   "id": "7b58ee0f",
   "metadata": {},
   "outputs": [],
   "source": [
    "def getHalfLives(data):\n",
    "    \n",
    "    halfLives = data[0:3]#gets converted from halflives to lambdas\n",
    "    \n",
    "\n",
    "    for i in range(0, len(halfLives)):\n",
    "        if halfLives[i] != 0:\n",
    "            halfLives[i] = 0.693 / halfLives[i]\n",
    "        else:\n",
    "            halfLives[i] = 0\n",
    "    lambdas = halflives\n",
    "    return lambdas"
   ]
  },
  {
   "cell_type": "code",
   "execution_count": 4,
   "id": "6054ab1e",
   "metadata": {},
   "outputs": [],
   "source": [
    "def getInitialConditions(data):\n",
    "    \n",
    "    initialConditions = data[3:6]\n",
    "    timeTotal = data[-2]\n",
    "    deltaT = data[-1]\n",
    "    \n",
    "    return initialConditions, timeTotal, deltaT"
   ]
  },
  {
   "cell_type": "code",
   "execution_count": 5,
   "id": "21c80f7e",
   "metadata": {},
   "outputs": [],
   "source": [
    "def numericallyA(initial, lambdaA, tf, dT):\n",
    "    \n",
    "    na = np.zeros(int(tf/dT))\n",
    "    \n",
    "    na[0] = initial\n",
    "    \n",
    "    for i in range(1, len(na)):\n",
    "        na[i] = na[i-1] - (dT*na[i-1]*lambdaA)\n",
    "    \n",
    "    return na"
   ]
  },
  {
   "cell_type": "code",
   "execution_count": 6,
   "id": "ffed6e8f",
   "metadata": {},
   "outputs": [],
   "source": [
    "def numericallyB(initial, lambdaA, lambdaB, tf, dT, na):\n",
    "    \n",
    "    nb = np.zeros(int(tf/dT))\n",
    "    \n",
    "    nb[0] = initial\n",
    "    \n",
    "    for i in range(1, len(nb)):\n",
    "        nb[i] = nb[i-1] + (dT*na[i-1]*lambdaA) - (dT*nb[i-1]*lambdaB)\n",
    "    \n",
    "    return nb"
   ]
  },
  {
   "cell_type": "code",
   "execution_count": 7,
   "id": "90be498a",
   "metadata": {},
   "outputs": [],
   "source": [
    "def numericallyC(initial, lambdaB, tf, dT, nb):\n",
    "    \n",
    "    nc = np.zeros(int(tf/dT))\n",
    "    \n",
    "    nc[0] = initial\n",
    "    \n",
    "    for i in range(1, len(nc)):\n",
    "        nc[i] = nc[i-1] + (dT*nb[i-1]*lambdaB)\n",
    "    \n",
    "    return nc"
   ]
  },
  {
   "cell_type": "code",
   "execution_count": 8,
   "id": "658c565f",
   "metadata": {},
   "outputs": [],
   "source": [
    "def completeNumericalMethod(inits, lambs, tf, dT):\n",
    "    \n",
    "    data = {}\n",
    "    \n",
    "    data[\"$N_A$(t)\"] = np.array(numericallyA(inits[0], lambs[0], tf, dT)).tolist()\n",
    "    \n",
    "    data[\"$N_B$(t)\"] = np.array(numericallyB(inits[1], lambs[0], lambs[1], tf, dT, data[\"$N_A$(t)\"])).tolist()\n",
    "    \n",
    "    data[\"$N_C$(t)\"] = np.array(numericallyC(inits[2], lambs[1], tf, dT, data[\"$N_B$(t)\"])).tolist()\n",
    "    \n",
    "    data[\"$N_{Total}$(t)\"] = (np.array(data[\"$N_A$(t)\"]) + np.array(data[\"$N_B$(t)\"]) + np.array(data[\"$N_C$(t)\"])).tolist()\n",
    "    \n",
    "    return data"
   ]
  },
  {
   "cell_type": "code",
   "execution_count": 9,
   "id": "2b956277",
   "metadata": {},
   "outputs": [],
   "source": [
    "def allNumericalInfo(filename):\n",
    "    rawInput = readInputFile(filename)\n",
    "    \n",
    "    #print(rawInput)\n",
    "    \n",
    "    lambs = getHalfLives(rawInput)\n",
    "    \n",
    "    inits, tf, dT = getInitialConditions(rawInput)\n",
    "\n",
    "    return (completeNumericalMethod(inits, lambs, tf, dT))\n",
    "    "
   ]
  },
  {
   "cell_type": "code",
   "execution_count": 10,
   "id": "d4a285b3",
   "metadata": {},
   "outputs": [],
   "source": [
    "def Nb_with_dif_coarseness(filename):\n",
    "    rawInput = readInputFile(filename)\n",
    "    \n",
    "    #print(rawInput)\n",
    "    \n",
    "    lambs = getHalfLives(rawInput)\n",
    "    \n",
    "    inits, tf, dT = getInitialConditions(rawInput)\n",
    "    \n",
    "    combined = {}\n",
    "\n",
    "    for i in range(-1,2):\n",
    "        \n",
    "        interval = dT / (2**i) #new delta T\n",
    "        \n",
    "        data =  completeNumericalMethod(inits, lambs, tf, interval)\n",
    "    \n",
    "        title = \"$N_B$(t) with $\\Delta$t=\" + str(interval)\n",
    "    \n",
    "        combined[title] = data[\"$N_B$(t)\"]\n",
    "    \n",
    "    \n",
    "    return (combined)"
   ]
  },
  {
   "cell_type": "code",
   "execution_count": 11,
   "id": "4030ffac",
   "metadata": {},
   "outputs": [],
   "source": [
    "def maximumForNb(filename):\n",
    "    \n",
    "    rawInput = readInputFile(filename)\n",
    "    \n",
    "    #print(rawInput)\n",
    "    \n",
    "    lambs = getHalfLives(rawInput)\n",
    "    \n",
    "    inits, tf, dT = getInitialConditions(rawInput)\n",
    "         \n",
    "    maximumLocs = []\n",
    "    deltaTs = []\n",
    "    \n",
    "    for i in range(0, 15):\n",
    "        \n",
    "        interval = 3*dT / (2**i) #new delta t\n",
    "        data =  completeNumericalMethod(inits, lambs, tf, interval)\n",
    "        \n",
    "        deltaTs.append((1/interval))\n",
    "        \n",
    "        maximumLocs.append((np.array(data[\"$N_B$(t)\"]).argmax())*interval)#use location in array to get time of max\n",
    "    \n",
    "    \n",
    "    \n",
    "    \n",
    "    return {\"deltaTs\":deltaTs, \"Locations\":maximumLocs}"
   ]
  },
  {
   "cell_type": "code",
   "execution_count": 12,
   "id": "906f0990",
   "metadata": {},
   "outputs": [],
   "source": [
    "def writeToOutputfile(outputFile, inputFile):\n",
    "    with open(outputFile, \"w\") as f:\n",
    "        \n",
    "        data1 = allNumericalInfo(inputFile)   \n",
    "        \n",
    "        data2 = Nb_with_dif_coarseness(inputFile)\n",
    "        \n",
    "        data4 = maximumForNb(inputFile)\n",
    "        \n",
    "        data3 = [getHalfLives(readInputFile(inputFile)), getInitialConditions(readInputFile(inputFile))]\n",
    "        \n",
    "        json.dump([data1, data2, data4, data3], f)\n",
    "        \n",
    "        \n",
    "        \"\"\"\n",
    "        f.write(\"These are the points for all three elements and the total over the given input time and delta t \\n \\n \\n\")\n",
    "        \n",
    "        for channel in list(data.keys()):\n",
    "            f.write(\"Data for \" + channel + \"\\n\")\n",
    "            f.write(\"\\n\")\n",
    "            f.writelines(str(data[channel]))\n",
    "            f.write(\"\\n\")\n",
    "            f.write(\"\\n\")\n",
    "        \n",
    "        f.write(\"\\n\")\n",
    "        f.write(\"\\n\")\n",
    "        \n",
    "        data = Nb_with_dif_coarseness(inputFile)\n",
    "        \n",
    "        for channel in list(data.keys()):\n",
    "            f.write(\"Data for \" + channel + \"\\n\")\n",
    "            f.write(\"\\n\")\n",
    "            f.writelines(str(data[channel]))\n",
    "            f.write(\"\\n\")\n",
    "            f.write(\"\\n\")\n",
    "        \"\"\"\n",
    "        \n",
    "        "
   ]
  },
  {
   "cell_type": "code",
   "execution_count": 14,
   "id": "4f7d8cf8",
   "metadata": {},
   "outputs": [],
   "source": [
    "writeToOutputfile(\"Output file.json\", \"Sample input file.txt\")"
   ]
  },
  {
   "cell_type": "code",
   "execution_count": null,
   "id": "cd6f7c52",
   "metadata": {},
   "outputs": [],
   "source": []
  },
  {
   "cell_type": "code",
   "execution_count": null,
   "id": "ce7d4f44",
   "metadata": {},
   "outputs": [],
   "source": []
  }
 ],
 "metadata": {
  "kernelspec": {
   "display_name": "Python 3 (ipykernel)",
   "language": "python",
   "name": "python3"
  },
  "language_info": {
   "codemirror_mode": {
    "name": "ipython",
    "version": 3
   },
   "file_extension": ".py",
   "mimetype": "text/x-python",
   "name": "python",
   "nbconvert_exporter": "python",
   "pygments_lexer": "ipython3",
   "version": "3.11.5"
  }
 },
 "nbformat": 4,
 "nbformat_minor": 5
}
