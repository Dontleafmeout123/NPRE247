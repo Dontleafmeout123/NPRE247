{
 "cells": [
  {
   "cell_type": "code",
   "execution_count": 1,
   "id": "bc8c96f0",
   "metadata": {},
   "outputs": [
    {
     "name": "stdout",
     "output_type": "stream",
     "text": [
      "Using matplotlib backend: <object object at 0x000001B2B6977590>\n"
     ]
    }
   ],
   "source": [
    "%matplotlib\n",
    "import matplotlib.pyplot as plt\n",
    "import json\n",
    "import numpy as np\n",
    "import math"
   ]
  },
  {
   "cell_type": "code",
   "execution_count": 2,
   "id": "a0dbf4b1",
   "metadata": {},
   "outputs": [],
   "source": [
    "def readOutputFile(outputFile):\n",
    "    with open(outputFile, 'r') as j:\n",
    "        data = json.loads(j.read())\n",
    "    return data"
   ]
  },
  {
   "cell_type": "code",
   "execution_count": 3,
   "id": "82da8924",
   "metadata": {},
   "outputs": [],
   "source": [
    "def getLambdas(data):\n",
    "    \n",
    "    lambdas = data\n",
    "    \n",
    "    for i in range(0, len(lambdas)):\n",
    "        if lambdas[i] != 0:\n",
    "            lambdas[i] = 0.693 / lambdas[i]\n",
    "        else:\n",
    "            lambdas[i] = 0\n",
    "    \n",
    "    return lambdas"
   ]
  },
  {
   "cell_type": "code",
   "execution_count": 4,
   "id": "45ec202a",
   "metadata": {},
   "outputs": [],
   "source": [
    "def createAllGraphs(outputFile):\n",
    "    \n",
    "    allData = readOutputFile(outputFile)\n",
    "    dataForThree = allData[0]\n",
    "    dataForIntervals = allData[1]\n",
    "    maximums = allData[2]\n",
    "    \n",
    "    \n",
    "    initialConditions = allData[-1]#in form [[list of Half lives], [list Of initial amounts, total time, delta t]]\n",
    "    inits = initialConditions[1][0]\n",
    "    deltaT = initialConditions[1][2]\n",
    "    timeF = initialConditions[1][1]\n",
    "    \n",
    "    \n",
    "    #plot concentration of elements in decay chain over time\n",
    "    \n",
    "    fig, ax = plt.subplots(layout = 'constrained')\n",
    "    \n",
    "    \n",
    "    for lineName in list(dataForThree.keys()):\n",
    "        y = dataForThree[lineName]\n",
    "        num = int(timeF/deltaT)\n",
    "        #print(num)\n",
    "        x = np.linspace(0, timeF, num)        \n",
    "        ax.plot(x, y, label = lineName)\n",
    "    \n",
    "\n",
    "    \n",
    "    plt.show()\n",
    "    \n",
    "    ax.set_yscale(\"linear\")\n",
    "    ax.set_xscale(\"linear\")\n",
    "    plt.grid(which = 'both')\n",
    "    \n",
    "    h1, l1 = ax.get_legend_handles_labels()\n",
    "    ax.legend(h1, l1, loc='best', fontsize=\"8\") #legend is smaller and customizable as can be seen in the plot functions above\n",
    "    \n",
    "    ax.set_xlabel('Time (h)')\n",
    "    ax.set_ylabel('Concentration')\n",
    "    \n",
    "    #plt.title(title)\n",
    "    \n",
    "    plt.ioff()\n",
    "    plt.ion()\n",
    "    #plt.savefig(\"imgs/NumericalMethods\")\n",
    "       \n",
    "    #plot calculations for Nb using different clarities\n",
    "    \n",
    "    fig2, ax2 = plt.subplots(layout = 'constrained')\n",
    "    \n",
    "    \n",
    "    for lineName in list(dataForIntervals.keys()):\n",
    "        y = dataForIntervals[lineName]\n",
    "        x = np.linspace(0, timeF, len(y))     \n",
    "        ax2.plot(x, y, label = lineName)\n",
    "    \n",
    "    lambdas = initialConditions[0]\n",
    "    x = np.linspace(0, timeF, int(timeF/0.1))\n",
    "    y = np.zeros(len(x))\n",
    "    for i in range(0, len(x)):\n",
    "        y[i] = (lambdas[0]/(lambdas[1]-lambdas[0]))*(inits[0])*(math.exp(-1*lambdas[0]*x[i])-math.exp(-1*lambdas[1]*x[i])) + (inits[1]*math.exp(-1*lambdas[1]*x[i]))\n",
    "    \n",
    "    ax2.plot(x, y, label = \"$N_B$ Analytical\" )\n",
    "    \n",
    "    analyticalMax = y.argmax()*0.1 #need to get time of max = location in array * time interval between subsequent points\n",
    "    \n",
    "    plt.show()\n",
    "    \n",
    "    ax2.set_yscale(\"linear\")\n",
    "    ax2.set_xscale(\"linear\")\n",
    "    plt.grid(which = 'both')\n",
    "    \n",
    "    h2, l2 = ax2.get_legend_handles_labels()\n",
    "    ax2.legend(h2, l2, loc='best', fontsize=\"8\") #legend is smaller and customizable as can be seen in the plot functions above\n",
    "    \n",
    "    ax2.set_xlabel('Time (h)')\n",
    "    ax2.set_ylabel('Concentration')\n",
    "    \n",
    "    #plt.title(title)\n",
    "    \n",
    "    plt.ioff()\n",
    "    plt.ion()\n",
    "    #plt.savefig(\"imgs/NbGraphs\")\n",
    "    \n",
    "    fig3, ax3 = plt.subplots(layout = 'constrained')\n",
    "    \n",
    "    x = maximums[\"deltaTs\"]\n",
    "    y = maximums[\"Locations\"]\n",
    "    ax3.scatter(x, y, label = \"Max for decreasing \" + \"$\\Delta$ts\", color = 'darkorange')\n",
    "    ax3.axhline(y = analyticalMax, label = \"Max for Analytical\")\n",
    "    \n",
    "    \n",
    "    plt.show()\n",
    "    \n",
    "    ax3.set_yscale(\"linear\")\n",
    "    ax3.set_xscale(\"log\")\n",
    "    plt.grid(which = 'both')\n",
    "    \n",
    "    h3, l3 = ax3.get_legend_handles_labels()\n",
    "    ax3.legend(h3, l3, loc='best', fontsize=\"8\") #legend is smaller and customizable as can be seen in the plot functions above\n",
    "    \n",
    "    ax3.set_xlabel(\"1/$\\Delta$t\")\n",
    "    ax3.set_ylabel(\"Time (h)\")\n",
    "    #ax3.set_ylim(0, None)\n",
    "    #plt.title(title)\n",
    "    \n",
    "    plt.ioff()\n",
    "    plt.ion()\n",
    "    #plt.savefig(\"imgs/MaximumsForNB\")"
   ]
  },
  {
   "cell_type": "code",
   "execution_count": 6,
   "id": "76c5df1f",
   "metadata": {
    "scrolled": true
   },
   "outputs": [],
   "source": [
    "createAllGraphs(\"Output file.json\")"
   ]
  },
  {
   "cell_type": "code",
   "execution_count": null,
   "id": "708e1640",
   "metadata": {},
   "outputs": [],
   "source": []
  },
  {
   "cell_type": "code",
   "execution_count": null,
   "id": "843200ea",
   "metadata": {},
   "outputs": [],
   "source": []
  }
 ],
 "metadata": {
  "kernelspec": {
   "display_name": "Python 3 (ipykernel)",
   "language": "python",
   "name": "python3"
  },
  "language_info": {
   "codemirror_mode": {
    "name": "ipython",
    "version": 3
   },
   "file_extension": ".py",
   "mimetype": "text/x-python",
   "name": "python",
   "nbconvert_exporter": "python",
   "pygments_lexer": "ipython3",
   "version": "3.11.5"
  }
 },
 "nbformat": 4,
 "nbformat_minor": 5
}
